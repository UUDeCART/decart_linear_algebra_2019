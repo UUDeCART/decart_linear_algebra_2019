{
 "cells": [
  {
   "cell_type": "markdown",
   "metadata": {},
   "source": [
    "\n",
    "# Linear Algebra and Biomedical Data Science\n",
    "\n",
    "## Homework - Work by hand\n",
    "\n",
    "### Problem  1.1\n",
    "Using Gaussian elimination solve the following system of equations.\n",
    "\n",
    "a)\n",
    "\\begin{eqnarray*}\n",
    "x_1+5x_2&= 7\\\\\n",
    "-2x_1-7x_2&=-5\n",
    "\\end{eqnarray*}\n",
    "\n",
    "b)\n",
    "Find the point of intersection of the two lines $x_1+5x_2=7$ and $x_1-2x_2=-2$.\n",
    "\n",
    "c)\n",
    "\\begin{eqnarray*}\n",
    "x_2+4x_3&= -5\\\\\n",
    "x_1+3x_2+5x_3&=-2\\\\\n",
    "3x_1+7x_2+7x_3&=6\n",
    "\\end{eqnarray*}\n",
    "\n",
    "#### Using Python\n",
    "Redo a), b), and c).\n",
    "\n",
    "### Problem  1.2\n",
    "Determine if the system is consistent and if it has a unique  solution. Each matrix represents an augmented matrix.\n",
    "\n",
    "a)\n",
    "\\begin{equation*}\n",
    "\\begin{bmatrix}\n",
    "x & * & * & * \\\\ \n",
    "0 & x & * & *\\\\ \n",
    "0& 0 &x &0\n",
    "\\end{bmatrix}\n",
    "\\end{equation*}\n",
    "\n",
    "b)\n",
    "\\begin{equation*}\n",
    "\\begin{bmatrix}\n",
    "0 &x& * & * & * \\\\ \n",
    "0 &0& x & * & *\\\\ \n",
    "0& 0&0 &0 &x\n",
    "\\end{bmatrix}\n",
    "\\end{equation*}\n",
    "\n",
    "\n",
    "Find the general form of the solution for the following augmented matrix\n",
    "\n",
    "c)\n",
    "\\begin{equation*}\n",
    "\\begin{bmatrix}\n",
    "1 &-3& 0 & -1 & 0 &-2 \\\\ \n",
    "0 &1&0& 0 & -4 & 1\\\\ \n",
    "0&0& 0&1 &9 &4\\\\\n",
    "0&0&0&0&0&0\n",
    "\\end{bmatrix}\n",
    "\\end{equation*}\n",
    "\n",
    "\n",
    "### Problem 1.3\n",
    "Let $\\mathbf{x}=\\begin{bmatrix}\n",
    "1 \\\\ 2 \\\\ 3\\\\ 4\n",
    "\\end{bmatrix}$, $\\mathbf{y}=\\begin{bmatrix}\n",
    "-2 \\\\ 1\\\\ 2\\\\ 1\n",
    "\\end{bmatrix}$, and $\\mathbf{z}=\\begin{bmatrix}\n",
    "-2 \\\\ 1\\\\ 2\n",
    "\\end{bmatrix}$ .  \n",
    "\n",
    "a) Find $\\mathbf{x}+2\\mathbf{y}$ and $-2\\mathbf{x}+\\mathbf{z}$.\n",
    "\n",
    "b) Let $\\mathbf{x}=\\begin{bmatrix}\n",
    "1 \\\\ -2 \\\\ 0\n",
    "\\end{bmatrix}$, $\\mathbf{y}=\\begin{bmatrix}\n",
    "0\\\\ 1\\\\ 2\n",
    "\\end{bmatrix}$, and $\\mathbf{z}=\\begin{bmatrix}\n",
    "5 \\\\ -6\\\\ 8\n",
    "\\end{bmatrix}$. Is $\\mathbf{b}= \\begin{bmatrix}\n",
    "2 \\\\ -1\\\\ 6\n",
    "\\end{bmatrix}$ a linear combination of $\\mathbf{x}$, $\\mathbf{y}$, and  $\\mathbf{z}$?\n",
    "\n",
    "c) List 4 vectors which are in the span of $\\{\\mathbf{v_1},\\mathbf{v_2}\\}$ where $\\mathbf{v_1}=\\begin{bmatrix}\n",
    "2 \\\\ 2\\\\ 6\n",
    "\\end{bmatrix}$ and $\\{\\mathbf{v_2}=\\begin{bmatrix}\n",
    "-2 \\\\ 2\\\\ 6\n",
    "\\end{bmatrix}$\n",
    "\n",
    "\n",
    "#### Using Python \n",
    "Let $\\mathbf{x}$ be a vector in $\\mathbb{R}^{10}$ whose $i$th component is $i$, let $\\mathbf{y}$ also be a vector in $\\mathbb{R}^{10}$ whose $i$th component is $i^2$, and let $\\mathbf{z}$ be a vector in $\\mathbb{R}^{11}$ whose components are all 1.\n",
    "\n",
    "Find $\\mathbf{y}+3\\mathbf{x}$, $-2\\mathbf{z}$, and $\\mathbf{x}+\\mathbf{z}$.\n",
    "\n",
    "### Problem 1.4\n",
    "\n",
    "Compute the product $A\\mathbf{x}$ using linear combination of columns and dots products.\n",
    "\n",
    "a) $A=\\begin{bmatrix}\n",
    "-4& 2\\\\\n",
    "1&6\\\\\n",
    "0& 1\n",
    "\\end{bmatrix}$ and $\\mathbf{x}=\\begin{bmatrix}\n",
    "3\\\\\n",
    "-2\\\\\n",
    "7\n",
    "\\end{bmatrix}$\n",
    "\n",
    "b) $A=\\begin{bmatrix}\n",
    "5& 1&-8&4\\\\\n",
    "-2 &-7&3&-5\n",
    "\\end{bmatrix}$ and $\\mathbf{x}=\\begin{bmatrix}\n",
    "5\\\\\n",
    "-1\\\\\n",
    "3\\\\\n",
    "-2\n",
    "\\end{bmatrix}$\n",
    "\n",
    "c) a) $A=\\begin{bmatrix}\n",
    "-4& 2\\\\\n",
    "1&6\\\\\n",
    "0& 1\n",
    "\\end{bmatrix}$ and $\\mathbf{x}=\\begin{bmatrix}\n",
    "3\\\\\n",
    "-2\n",
    "\\end{bmatrix}$\n",
    "\n",
    "d) Is $\\mathbf{x}=\\begin{bmatrix}\n",
    "0\\\\\n",
    "4\\\\\n",
    "4\n",
    "\\end{bmatrix}$ in the span of the columns of \n",
    "$A=\\begin{bmatrix}\n",
    "3& -5\\\\\n",
    "-2&6\\\\\n",
    "1& 1\n",
    "\\end{bmatrix}$?\n",
    "\n",
    "#### Using Python \n",
    "Redo a), b) and c) using python.\n",
    "\n",
    "### Problem 1.5\n",
    "\n",
    "a) Determine if the system has a non-trivial solution.\n",
    "\n",
    "\\begin{eqnarray*}\n",
    "2x_1-5x_2+8x_3&= 0\\\\\n",
    "-2x_1-7x_2+x_3&=0\\\\\n",
    "-4x_1+2x_2+7x_3&=0\\\\\n",
    "\\end{eqnarray*}\n",
    "\n",
    "### Problem 1.6\n",
    "a) Find the values of $h$ which make the following vectors linearly dependent.\n",
    "$\\begin{bmatrix}\n",
    "1\\\\\n",
    "-1\\\\\n",
    "4\n",
    "\\end{bmatrix}$, $\\begin{bmatrix}\n",
    "3\\\\\n",
    "-5\\\\\n",
    "7\n",
    "\\end{bmatrix}$, and \n",
    "$\\begin{bmatrix}\n",
    "-1\\\\\n",
    "5\\\\\n",
    "h\n",
    "\\end{bmatrix}$\n",
    "\n",
    "\n",
    "```python\n",
    "\n",
    "```\n",
    "\n",
    "\n",
    "```python\n",
    "\n",
    "```\n"
   ]
  },
  {
   "cell_type": "code",
   "execution_count": 14,
   "metadata": {},
   "outputs": [],
   "source": [
    "def mul_vec(v, m):\n",
    "    return [v[i]*m for i in range(len(v))]\n"
   ]
  },
  {
   "cell_type": "code",
   "execution_count": 8,
   "metadata": {},
   "outputs": [
    {
     "data": {
      "text/plain": [
       "5"
      ]
     },
     "execution_count": 8,
     "metadata": {},
     "output_type": "execute_result"
    }
   ],
   "source": [
    "v = [1,2,3,4,99]\n",
    "\n",
    "len(v)"
   ]
  },
  {
   "cell_type": "code",
   "execution_count": 6,
   "metadata": {},
   "outputs": [
    {
     "name": "stdout",
     "output_type": "stream",
     "text": [
      "0\n",
      "1\n",
      "2\n",
      "3\n",
      "4\n",
      "5\n",
      "6\n",
      "7\n",
      "8\n",
      "9\n"
     ]
    }
   ],
   "source": [
    "for i in range(0,10):\n",
    "    print(i)"
   ]
  },
  {
   "cell_type": "code",
   "execution_count": 16,
   "metadata": {},
   "outputs": [
    {
     "data": {
      "text/plain": [
       "[6, 12, 18]"
      ]
     },
     "execution_count": 16,
     "metadata": {},
     "output_type": "execute_result"
    }
   ],
   "source": [
    "mul_vec([1,2,3], 6)"
   ]
  },
  {
   "cell_type": "code",
   "execution_count": 29,
   "metadata": {},
   "outputs": [],
   "source": [
    "def sum_vec(v1, v2):\n",
    "    if len(v1) == len(v2):\n",
    "        return [v1[i]+v2[i] for i in range(len(v1))]\n",
    "    else:\n",
    "        print(\"algo salio mal\")\n",
    "        "
   ]
  },
  {
   "cell_type": "code",
   "execution_count": 30,
   "metadata": {},
   "outputs": [
    {
     "data": {
      "text/plain": [
       "[2, 4, 6]"
      ]
     },
     "execution_count": 30,
     "metadata": {},
     "output_type": "execute_result"
    }
   ],
   "source": [
    "sum_vec([1,2,3],[1,2,3])"
   ]
  },
  {
   "cell_type": "code",
   "execution_count": null,
   "metadata": {},
   "outputs": [],
   "source": [
    "for i in range(0,10):\n",
    "    for j in range(0,10):\n",
    "        print(i,j)"
   ]
  },
  {
   "cell_type": "code",
   "execution_count": 35,
   "metadata": {},
   "outputs": [],
   "source": [
    "def vec_x_vec(v1, v2):\n",
    "    assert len(v1) == len(v2)\n",
    "    resultado = 0\n",
    "    for i in range(len(v1)):\n",
    "        resultado = resultado + v1[i]*v2[i]\n",
    "        #resultado += v1[i]*v2[i]\n",
    "    return resultado\n",
    "    "
   ]
  },
  {
   "cell_type": "code",
   "execution_count": 36,
   "metadata": {},
   "outputs": [
    {
     "data": {
      "text/plain": [
       "32"
      ]
     },
     "execution_count": 36,
     "metadata": {},
     "output_type": "execute_result"
    }
   ],
   "source": [
    "vec_x_vec([1,2,3],[4,5,6])"
   ]
  }
 ],
 "metadata": {
  "kernelspec": {
   "display_name": "Python 3",
   "language": "python",
   "name": "python3"
  },
  "language_info": {
   "codemirror_mode": {
    "name": "ipython",
    "version": 3
   },
   "file_extension": ".py",
   "mimetype": "text/x-python",
   "name": "python",
   "nbconvert_exporter": "python",
   "pygments_lexer": "ipython3",
   "version": "3.7.3"
  }
 },
 "nbformat": 4,
 "nbformat_minor": 2
}

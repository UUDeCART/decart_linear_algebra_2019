{
 "cells": [
  {
   "cell_type": "code",
   "execution_count": 72,
   "metadata": {},
   "outputs": [],
   "source": [
    "%matplotlib inline"
   ]
  },
  {
   "cell_type": "markdown",
   "metadata": {},
   "source": [
    "# Vectors (Column Vectors)\n",
    "\n",
    "A vector is a column of numbers. Vectors are related to a **point** but have an essential geometric meaning.\n",
    "\n",
    "Think of the vector $v$ as an arrow pointing from the origin to the\n",
    "point $p$. Thus vectors have both magnitude and direction. Obviously the\n",
    "order of the elements of $v$ matter.\n",
    "\n",
    "Below is a figure illustrating a vector pointing from from the origin ($O$) to a point $A$ at $x=2$ and $y=3$.\n",
    "\n",
    "![An example vector](https://goo.gl/qCxJp3)\n",
    "\n",
    "The vector above would be written as\n",
    "\n",
    "$\\vec{v} = \\begin{bmatrix}2\\\\3\\end{bmatrix}$"
   ]
  },
  {
   "cell_type": "markdown",
   "metadata": {},
   "source": [
    "## Elements of a Vector\n",
    "The **elements** of the vector are known as **scalars.**\n",
    "\n",
    "For our example above, the elements of the vector are $2$ and $3$.\n",
    "\n",
    "## Dimension of a Vector\n",
    "The **dimension** of a vector is the number of elements in\n",
    "the vector.\n",
    "\n",
    "If the elements of the vector come from the real numbers ($\\mathbb{R}$), we\n",
    "would indicate the **n-space** of the vector as\n",
    "$\\mathbb{R}^n$.\n",
    "\n",
    "For our example above, the dimension of the vector is 2.\n",
    "\n",
    "**Note:** We can only visualize two or three dimensional vectors. However, most of the vectors we will look at will have a much higher dimension so we will limit our visualizations to 2D. We can plot the projection of a higher-dimension vector on a 2D or 3D space."
   ]
  },
  {
   "cell_type": "markdown",
   "metadata": {},
   "source": [
    "## Some Example Vectors\n",
    "\n",
    "#### Example\n",
    "$v_1 = \\begin{bmatrix} 2\\\\-5\\end{bmatrix}$,\n",
    "* Elements are $2$ and $-5$\n",
    "* Dimension is 2\n",
    "\n",
    "#### Example\n",
    "$v_2=\\begin{bmatrix}7\\\\9\\end{bmatrix}$,\n",
    "* Elements are $7$ and $9$\n",
    "* Dimension is 2\n",
    "\n",
    "#### Example\n",
    "$v_3=\\begin{bmatrix}-3\\\\4\\\\5\\end{bmatrix}$.\n",
    "* Elements are -3, 4, and 5\n",
    "* Dimension is 3\n",
    "\n",
    "#### Example\n",
    "$v_4=\\begin{bmatrix}3\\\\-7\\\\-2\\end{bmatrix}$.\n",
    "* Elements are 3, -7, and -2\n",
    "* Dimension is 3\n",
    "\n",
    "### Row vectors\n",
    "\n",
    "We can also have [**row vectors**](https://en.wikipedia.org/wiki/Row_and_column_vectors). A row vector is the [**transpose**](https://en.wikipedia.org/wiki/Transpose) of a (column) vector. Similarly, a column vector is the transpose of a row vector.\n",
    "\n",
    "**transpose** of a column vector. $$v_3^T=\\begin{bmatrix}3&4&5\\end{bmatrix}$$"
   ]
  },
  {
   "cell_type": "markdown",
   "metadata": {},
   "source": [
    "## Vector Equality\n",
    "Vectors are equal when every corresponding elements of the vectors are\n",
    "equal. That is, the $i^{th}$ element in vector $a$ corresponds to the $i^{th}$ element in vector $b$ for all $i$.\n",
    "\n",
    "## Representing a Vector in Python\n",
    "\n",
    "Python does not have a native vector type, so what are the native Python data structures that we might use to represent an array? \n",
    "\n",
    "* List?\n",
    "* Tuple?\n",
    "* Dictionary?\n",
    "* Set?\n"
   ]
  },
  {
   "cell_type": "code",
   "execution_count": 1,
   "metadata": {},
   "outputs": [],
   "source": [
    "def vec_eq(v1, v2):\n",
    "    \"\"\"\n",
    "    checks whether two vectors are equal\n",
    "    \n",
    "    v1: \n",
    "    v2:\n",
    "    \"\"\"\n",
    "    assert len(v1) == len(v2)\n",
    "    for i in range(len(v1)):\n",
    "        if v1[i] != v2[i]:\n",
    "            return False\n",
    "    return True"
   ]
  },
  {
   "cell_type": "code",
   "execution_count": 3,
   "metadata": {},
   "outputs": [
    {
     "data": {
      "text/plain": [
       "False"
      ]
     },
     "execution_count": 3,
     "metadata": {},
     "output_type": "execute_result"
    }
   ],
   "source": [
    "vec_eq([1,2],[1,3])"
   ]
  },
  {
   "cell_type": "code",
   "execution_count": 4,
   "metadata": {},
   "outputs": [],
   "source": [
    "def alpha_x_v(alpha, v):\n",
    "    \"\"\"\n",
    "    multiplies vector v by scalar alpha\n",
    "    \"\"\"\n",
    "    return [v[i]*alpha for i in range(len(v))]\n"
   ]
  },
  {
   "cell_type": "code",
   "execution_count": 5,
   "metadata": {},
   "outputs": [
    {
     "data": {
      "text/plain": [
       "[3, 6, 9]"
      ]
     },
     "execution_count": 5,
     "metadata": {},
     "output_type": "execute_result"
    }
   ],
   "source": [
    "alpha_x_v(3,[1,2,3])"
   ]
  },
  {
   "cell_type": "code",
   "execution_count": 9,
   "metadata": {},
   "outputs": [],
   "source": [
    "def v_plus_v(v1, v2):\n",
    "    \"\"\"\n",
    "    vector addition of vectors v1 and v2\n",
    "    \"\"\"\n",
    "    return [v1[i]+v2[i] for i in range(len(v1))]\n"
   ]
  },
  {
   "cell_type": "code",
   "execution_count": 10,
   "metadata": {},
   "outputs": [
    {
     "data": {
      "text/plain": [
       "[4, 8, 12]"
      ]
     },
     "execution_count": 10,
     "metadata": {},
     "output_type": "execute_result"
    }
   ],
   "source": [
    "v_plus_v([1,2,3],[3,6,9])"
   ]
  },
  {
   "cell_type": "code",
   "execution_count": 1,
   "metadata": {},
   "outputs": [],
   "source": [
    "def dot(v1, v2):\n",
    "    \"\"\"\n",
    "    Computes the dot product between two vectors\n",
    "    \n",
    "    returns scalar\n",
    "    \"\"\"\n",
    "    result = 0\n",
    "    for i in range(len(v1)):\n",
    "        result += v1[i]*v2[i]\n",
    "    return result\n",
    "    \n",
    "    "
   ]
  },
  {
   "cell_type": "code",
   "execution_count": 3,
   "metadata": {},
   "outputs": [
    {
     "data": {
      "text/plain": [
       "5"
      ]
     },
     "execution_count": 3,
     "metadata": {},
     "output_type": "execute_result"
    }
   ],
   "source": [
    "dot([1,2],[1,2])"
   ]
  },
  {
   "cell_type": "markdown",
   "metadata": {},
   "source": [
    "#### Exercise: Using only `alpha_x_v` and `v_plus_v`, how would you solve the following problem?\n",
    "\n",
    "\\begin{equation}\n",
    "5 \\begin{bmatrix}3\\\\-7\\\\-2\\end{bmatrix} - \\begin{bmatrix}2\\\\12\\\\5\\end{bmatrix}\n",
    "\\end{equation}"
   ]
  },
  {
   "cell_type": "code",
   "execution_count": 15,
   "metadata": {},
   "outputs": [
    {
     "data": {
      "text/plain": [
       "[13, -47, -15]"
      ]
     },
     "execution_count": 15,
     "metadata": {},
     "output_type": "execute_result"
    }
   ],
   "source": [
    "v_plus_v(alpha_x_v(5,[3,-7,-2]),alpha_x_v(-1,[2,12,5]))"
   ]
  },
  {
   "cell_type": "code",
   "execution_count": 16,
   "metadata": {},
   "outputs": [
    {
     "data": {
      "text/plain": [
       "[-3, 4, 7, 6]"
      ]
     },
     "execution_count": 16,
     "metadata": {},
     "output_type": "execute_result"
    }
   ],
   "source": [
    "v_plus_v([1,2,3,4],alpha_x_v(2,[-2,1,2,1]))"
   ]
  },
  {
   "cell_type": "code",
   "execution_count": 42,
   "metadata": {},
   "outputs": [],
   "source": [
    "def m_x_v(m, v):\n",
    "    \"\"\"\n",
    "    vector has to be the same size (have the same number of columns as m)\n",
    "    return is an m size vector\n",
    "    \n",
    "    \"\"\"\n",
    "    \n",
    "    for i in range(len(m)):\n",
    "        for j in range(len(m[i])):\n",
    "            print(m[i][j]*v[i])\n",
    "    "
   ]
  },
  {
   "cell_type": "code",
   "execution_count": 40,
   "metadata": {},
   "outputs": [
    {
     "name": "stdout",
     "output_type": "stream",
     "text": [
      "1\n",
      "2\n",
      "3\n",
      "8\n",
      "10\n",
      "12\n",
      "21\n",
      "24\n",
      "27\n",
      "40\n",
      "44\n",
      "48\n"
     ]
    }
   ],
   "source": [
    "m_x_v(matrix,[1,2,3,4])"
   ]
  },
  {
   "cell_type": "code",
   "execution_count": 28,
   "metadata": {},
   "outputs": [
    {
     "data": {
      "text/plain": [
       "4"
      ]
     },
     "execution_count": 28,
     "metadata": {},
     "output_type": "execute_result"
    }
   ],
   "source": [
    "matrix = [[1,2,3],[4,5,6],[7,8,9],[10,11,12]]\n",
    "len(matrix)\n",
    "#type(matrix)"
   ]
  },
  {
   "cell_type": "code",
   "execution_count": 25,
   "metadata": {},
   "outputs": [
    {
     "data": {
      "text/plain": [
       "[[1, 2, 3], [4, 5, 6], [7, 8, 9], [10, 11, 12]]"
      ]
     },
     "execution_count": 25,
     "metadata": {},
     "output_type": "execute_result"
    }
   ],
   "source": [
    "matrix[:]\n",
    "#len(matrix[0])"
   ]
  },
  {
   "cell_type": "code",
   "execution_count": 15,
   "metadata": {},
   "outputs": [],
   "source": [
    "w, h = 2, 3;\n",
    "Matrix = [[0 for x in range(w)] for y in range(h)]"
   ]
  },
  {
   "cell_type": "code",
   "execution_count": 16,
   "metadata": {},
   "outputs": [
    {
     "data": {
      "text/plain": [
       "[[0, 0], [0, 0], [0, 0]]"
      ]
     },
     "execution_count": 16,
     "metadata": {},
     "output_type": "execute_result"
    }
   ],
   "source": [
    "Matrix"
   ]
  },
  {
   "cell_type": "code",
   "execution_count": 41,
   "metadata": {},
   "outputs": [
    {
     "name": "stdout",
     "output_type": "stream",
     "text": [
      "0\n",
      "1\n",
      "2\n"
     ]
    }
   ],
   "source": [
    "len(matrix[0])\n",
    "for i in range(3):\n",
    "    print(i)"
   ]
  },
  {
   "cell_type": "code",
   "execution_count": 5,
   "metadata": {},
   "outputs": [
    {
     "ename": "NameError",
     "evalue": "name 'matrix' is not defined",
     "output_type": "error",
     "traceback": [
      "\u001b[0;31m---------------------------------------------------------------------------\u001b[0m",
      "\u001b[0;31mNameError\u001b[0m                                 Traceback (most recent call last)",
      "\u001b[0;32m<ipython-input-5-12cd014df988>\u001b[0m in \u001b[0;36m<module>\u001b[0;34m\u001b[0m\n\u001b[0;32m----> 1\u001b[0;31m \u001b[0mm_x_v\u001b[0m\u001b[0;34m(\u001b[0m\u001b[0mmatrix\u001b[0m\u001b[0;34m,\u001b[0m\u001b[0;34m[\u001b[0m\u001b[0;36m1\u001b[0m\u001b[0;34m,\u001b[0m\u001b[0;36m2\u001b[0m\u001b[0;34m]\u001b[0m\u001b[0;34m)\u001b[0m\u001b[0;34m\u001b[0m\u001b[0;34m\u001b[0m\u001b[0m\n\u001b[0m",
      "\u001b[0;31mNameError\u001b[0m: name 'matrix' is not defined"
     ]
    }
   ],
   "source": [
    "m_x_v(matrix,[1,2])"
   ]
  }
 ],
 "metadata": {
  "@webio": {
   "lastCommId": null,
   "lastKernelId": null
  },
  "kernelspec": {
   "display_name": "Python 3",
   "language": "python",
   "name": "python3"
  },
  "language_info": {
   "codemirror_mode": {
    "name": "ipython",
    "version": 3
   },
   "file_extension": ".py",
   "mimetype": "text/x-python",
   "name": "python",
   "nbconvert_exporter": "python",
   "pygments_lexer": "ipython3",
   "version": "3.7.3"
  },
  "latex_envs": {
   "LaTeX_envs_menu_present": true,
   "autoclose": false,
   "autocomplete": true,
   "bibliofile": "biblio.bib",
   "cite_by": "apalike",
   "current_citInitial": 1,
   "eqLabelWithNumbers": true,
   "eqNumInitial": 1,
   "hotkeys": {
    "equation": "Ctrl-E",
    "itemize": "Ctrl-I"
   },
   "labels_anchors": false,
   "latex_user_defs": false,
   "report_style_numbering": false,
   "user_envs_cfg": false
  }
 },
 "nbformat": 4,
 "nbformat_minor": 2
}
